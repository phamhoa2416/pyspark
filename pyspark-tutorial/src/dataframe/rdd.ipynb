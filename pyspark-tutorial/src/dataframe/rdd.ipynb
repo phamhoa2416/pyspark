{
 "cells": [
  {
   "cell_type": "code",
   "execution_count": null,
   "metadata": {},
   "outputs": [],
   "source": [
    "%pip install pyspark"
   ]
  },
  {
   "cell_type": "code",
   "execution_count": 3,
   "metadata": {},
   "outputs": [],
   "source": [
    "from pyspark.sql import SparkSession\n",
    "spark = SparkSession.builder.appName(\"Customer Data\").getOrCreate()"
   ]
  },
  {
   "cell_type": "code",
   "execution_count": null,
   "metadata": {},
   "outputs": [],
   "source": [
    "# Create empty RDD\n",
    "emptyRDD = spark.sparkContext.emptyRDD()\n",
    "\n",
    "# Create empty RDD using parallelize\n",
    "emptyRDD_2 = spark.sparkContext.parallelize([])\n",
    "\n",
    "print(emptyRDD)\n",
    "print(emptyRDD_2)"
   ]
  },
  {
   "cell_type": "code",
   "execution_count": null,
   "metadata": {},
   "outputs": [],
   "source": [
    "# Create empty DataFrame with Schema\n",
    "\n",
    "# Create Schema\n",
    "from pyspark.sql.types import StructType, StructField, StringType, IntegerType\n",
    "schema = StructType([\n",
    "    StructField(\"user_id\", IntegerType(), True),\n",
    "    StructField(\"user_name\", StringType(), True),\n",
    "    StructField(\"user_email\", StringType(), False),\n",
    "    StructField(\"user_age\", IntegerType(), True)\n",
    "])\n",
    "\n",
    "# Create empty DataFrame from emptyRDD\n",
    "df = spark.createDataFrame(emptyRDD, schema)\n",
    "df.printSchema()\n",
    "\n",
    "# Convert empty RDD to DataFrame\n",
    "df_1 = emptyRDD.toDF(schema)\n",
    "\n",
    "# Create empty DataFrame with Schema using createDataFrame\n",
    "df_2 = spark.createDataFrame([], schema)\n",
    "df_2.printSchema()"
   ]
  },
  {
   "cell_type": "code",
   "execution_count": 6,
   "metadata": {},
   "outputs": [
    {
     "name": "stdout",
     "output_type": "stream",
     "text": [
      "root\n",
      "\n"
     ]
    }
   ],
   "source": [
    "# Create empty DataFrame without Schema\n",
    "\n",
    "df_3 = spark.createDataFrame([], StructType([]))\n",
    "df_3.printSchema()"
   ]
  }
 ],
 "metadata": {
  "kernelspec": {
   "display_name": "Python 3",
   "language": "python",
   "name": "python3"
  },
  "language_info": {
   "codemirror_mode": {
    "name": "ipython",
    "version": 3
   },
   "file_extension": ".py",
   "mimetype": "text/x-python",
   "name": "python",
   "nbconvert_exporter": "python",
   "pygments_lexer": "ipython3",
   "version": "3.12.5"
  }
 },
 "nbformat": 4,
 "nbformat_minor": 2
}
