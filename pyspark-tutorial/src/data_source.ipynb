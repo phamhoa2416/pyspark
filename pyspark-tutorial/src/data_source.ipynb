{
 "cells": [
  {
   "cell_type": "code",
   "execution_count": null,
   "metadata": {},
   "outputs": [],
   "source": [
    "%pip install pyspark"
   ]
  },
  {
   "cell_type": "code",
   "execution_count": 10,
   "metadata": {},
   "outputs": [],
   "source": [
    "from pyspark.sql import SparkSession\n",
    "\n",
    "spark = SparkSession.builder.master(\"local[1]\") \\\n",
    "                    .appName(\"Customers\") \\\n",
    "                    .getOrCreate()"
   ]
  },
  {
   "cell_type": "markdown",
   "metadata": {},
   "source": [
    "## 1. Read & Write CSV File"
   ]
  },
  {
   "cell_type": "code",
   "execution_count": null,
   "metadata": {},
   "outputs": [],
   "source": [
    "# Read CSV file into data frame\n",
    "df = spark.read.csv(\"../data/Customers.csv\")\n",
    "df.printSchema()\n",
    "\n",
    "# Using format and load\n",
    "df = spark.read.format(\"csv\").load(\"../data/Customers.csv\")\n",
    "\n",
    "# Using header record for column names\n",
    "df = spark.read.option(\"header\", True) \\\n",
    "                .option(\"inferSchema\", True) \\\n",
    "                .csv(\"../data/Customers.csv\")\n",
    "\n",
    "df.printSchema()"
   ]
  },
  {
   "cell_type": "code",
   "execution_count": null,
   "metadata": {},
   "outputs": [],
   "source": [
    "# Reading CSV File Options\n",
    "\n",
    "# delimeter - specify the column delimeter of the CSV file\n",
    "df_1 = spark.read.option(delimeter=',').csv(\"../data/Customers.csv\")\n",
    "\n",
    "# header - use the first line as the header\n",
    "df_2 = spark.read.option(header=True).csv(\"../data/Customers.csv\")\n",
    "\n",
    "# inferSchema - infers the input schema automatically from data\n",
    "df_3 = spark.read.option(inferSchema=True).csv(\"../data/Customers.csv\")\n",
    "\n",
    "# quotes - the character used to quote fields\n",
    "df_4 = spark.read.option(quotes='\"').csv(\"../data/Customers.csv\")\n",
    "\n",
    "# nullValue - specifies a string that indicates a null value\n",
    "df_5 = spark.read.option(nullValue='NA').csv(\"../data/Customers.csv\")"
   ]
  },
  {
   "cell_type": "code",
   "execution_count": null,
   "metadata": {},
   "outputs": [],
   "source": [
    "# Specify Custom Schema\n",
    "from pyspark.sql.types import StructType, StructField, StringType, IntegerType\n",
    "\n",
    "schema = StructType() \\\n",
    "            .add(\"CustomerID\", IntegerType(), True) \\\n",
    "            .add(\"Gender\", StringType(), True) \\\n",
    "            .add(\"Age\", IntegerType(), True) \\\n",
    "            .add(\"Annual Income\", IntegerType(), True) \\\n",
    "            .add(\"Spending Score\", IntegerType(), True) \\\n",
    "            .add(\"Profession\", StringType(), True) \\\n",
    "            .add(\"Work Experience\", IntegerType(), True) \\\n",
    "            .add(\"Family Size\", IntegerType(), True)\n",
    "\n",
    "df_with_schema = spark.read.format(\"csv\") \\\n",
    "                    .option(\"header\", True) \\\n",
    "                    .schema(schema) \\\n",
    "                    .load(\"../data/Customers.csv\")\n",
    "\n",
    "df_with_schema.printSchema()"
   ]
  },
  {
   "cell_type": "code",
   "execution_count": null,
   "metadata": {},
   "outputs": [],
   "source": [
    "# Writing PySpark DataFrame to CSV File\n",
    "df_with_schema.write.mode(\"overwrite\") \\\n",
    "        .option(\"header\", True) \\\n",
    "        .option(\"delimiter\", \"|\") \\\n",
    "        .csv(\"output/Customers.csv\")"
   ]
  }
 ],
 "metadata": {
  "kernelspec": {
   "display_name": "Python 3",
   "language": "python",
   "name": "python3"
  },
  "language_info": {
   "codemirror_mode": {
    "name": "ipython",
    "version": 3
   },
   "file_extension": ".py",
   "mimetype": "text/x-python",
   "name": "python",
   "nbconvert_exporter": "python",
   "pygments_lexer": "ipython3",
   "version": "3.12.5"
  }
 },
 "nbformat": 4,
 "nbformat_minor": 2
}
